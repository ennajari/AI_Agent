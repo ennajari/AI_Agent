{
 "cells": [
  {
   "cell_type": "code",
   "execution_count": 1,
   "id": "3f4e39f7",
   "metadata": {},
   "outputs": [
    {
     "name": "stdout",
     "output_type": "stream",
     "text": [
      "id=UUID('1e856d31-78bc-423f-92f0-37a5548e755d') formatting_errors=0 role='Friendly Greeter' goal='Dire bonjour à tout le monde de manière polie' backstory='Un agent IA très amical qui adore saluer les gens.' config=None cache=True verbose=True max_rpm=None allow_delegation=False tools=[] max_iter=25 agent_executor=<crewai.agents.crew_agent_executor.CrewAgentExecutor object at 0x000001E971F8B730> llm=<crewai.llm.LLM object at 0x000001E971F8B7C0> crew=None i18n=I18N(prompt_file=None) cache_handler=CacheHandler() tools_handler=<crewai.agents.tools_handler.ToolsHandler object at 0x000001E971F8B8B0> max_tokens=None knowledge=None knowledge_sources=None knowledge_storage=None security_config=SecurityConfig(version='1.0.0', fingerprint=Fingerprint(uuid_str='5ab67b91-1418-4055-9669-bd3adc7a6aa5', created_at=datetime.datetime(2025, 4, 15, 18, 21, 43, 848272), metadata={})) max_execution_time=None agent_ops_agent_name='Friendly Greeter' agent_ops_agent_id=None step_callback=None use_system_prompt=True function_calling_llm=None system_template=None prompt_template=None response_template=None tools_results=[] allow_code_execution=False respect_context_window=True max_retry_limit=2 multimodal=False code_execution_mode='safe' embedder=None\n"
     ]
    }
   ],
   "source": [
    "from crewai import Agent\n",
    "\n",
    "agent = Agent(\n",
    "    role='Friendly Greeter',\n",
    "    goal='Dire bonjour à tout le monde de manière polie',\n",
    "    backstory='Un agent IA très amical qui adore saluer les gens.',\n",
    "    verbose=True\n",
    ")\n",
    "\n",
    "print(agent)"
   ]
  },
  {
   "cell_type": "code",
   "execution_count": null,
   "id": "54836d36",
   "metadata": {},
   "outputs": [],
   "source": []
  }
 ],
 "metadata": {
  "kernelspec": {
   "display_name": "agent",
   "language": "python",
   "name": "python3"
  },
  "language_info": {
   "codemirror_mode": {
    "name": "ipython",
    "version": 3
   },
   "file_extension": ".py",
   "mimetype": "text/x-python",
   "name": "python",
   "nbconvert_exporter": "python",
   "pygments_lexer": "ipython3",
   "version": "3.10.16"
  }
 },
 "nbformat": 4,
 "nbformat_minor": 5
}
